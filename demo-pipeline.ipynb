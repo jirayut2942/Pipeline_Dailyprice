{
 "metadata": {
  "language_info": {
   "codemirror_mode": {
    "name": "ipython",
    "version": 3
   },
   "file_extension": ".py",
   "mimetype": "text/x-python",
   "name": "python",
   "nbconvert_exporter": "python",
   "pygments_lexer": "ipython3",
   "version": "3.7.8"
  },
  "orig_nbformat": 2,
  "kernelspec": {
   "name": "python37864bita71d2b9658c8454ab10aba3af7d1116b",
   "display_name": "Python 3.7.8 64-bit"
  },
  "metadata": {
   "interpreter": {
    "hash": "455eed284536898efddaa0c551717516dddbe17405f99cb227a2db881e63feb9"
   }
  }
 },
 "nbformat": 4,
 "nbformat_minor": 2,
 "cells": [
  {
   "cell_type": "code",
   "execution_count": 1,
   "metadata": {},
   "outputs": [],
   "source": [
    "from ConnectDB import engine\n",
    "\n",
    "import pandas as pd\n",
    "import pandas_datareader as web\n",
    "import pymysql\n",
    "from sqlalchemy import create_engine\n",
    "import sys\n",
    "import datetime as dt\n",
    "from datetime import date\n",
    "from datetime import timedelta\n",
    "from datetime import datetime\n",
    "import pytz"
   ]
  },
  {
   "cell_type": "code",
   "execution_count": 2,
   "metadata": {},
   "outputs": [],
   "source": [
    "# Time zone: thailand\n",
    "TH = pytz.timezone('Asia/Bangkok')\n",
    "\n",
    "Set50_list = ['ADVANC.BK','AOT.BK','AWC.BK','BBL.BK','BDMS.BK','BEM.BK','BGRIM.BK','BH.BK','BJC.BK','BPP.BK',\n",
    "\t    'BTS.BK','CBG.BK','CPALL.BK','CPF.BK','CPN.BK','CRC.BK','DTAC.BK','EA.BK','EGCO.BK','GLOBAL.BK','GPSC.BK',\n",
    "\t    'GULF.BK','HMPRO.BK','INTUCH.BK','IRPC.BK','IVL.BK','KBANK.BK','KTB.BK','KTC.BK','LH.BK','MINT.BK','MTC.BK',\n",
    "\t    'OSP.BK','PTT.BK','PTTEP.BK','PTTGC.BK','RATCH.BK','SAWAD.BK','SCB.BK','SCC.BK','TCAP.BK','TISCO.BK','TMB.BK',\n",
    "\t    'TOA.BK','TOP.BK','TRUE.BK','TTW.BK','TU.BK','VGI.BK','WHA.BK']"
   ]
  },
  {
   "cell_type": "code",
   "execution_count": 15,
   "metadata": {},
   "outputs": [],
   "source": [
    "def extract():\n",
    "        try:\n",
    "            print(\"Extract-->\")\n",
    "            # find max date in database\n",
    "            sql = \"\"\" select DATE_ADD(max(Date), INTERVAL 1 DAY) as \"max(Date)\" from set50  \"\"\"\n",
    "            Max_Date = pd.read_sql_query(sql, engine)\n",
    "\n",
    "            # startdate, enddate\n",
    "            start_time=Max_Date['max(Date)'].loc[0]\n",
    "            end_time = dt.datetime.now(TH)-dt.timedelta(1)\n",
    "            end_time = end_time.date()\n",
    "            data = web.DataReader(Set50_list,'yahoo', start_time, end_time)\n",
    "            # print(\"Data Set50: \",data.head())\n",
    "            print(\"Start_date: \",start_time) # Start date stocsk data for Extarct\n",
    "            print(\"End_date: \",end_time) # End date stocsk data for Extarct\n",
    "\n",
    "            return data\n",
    "        except:\n",
    "            print(\"Is error-->Extract\")"
   ]
  },
  {
   "cell_type": "code",
   "execution_count": 19,
   "metadata": {},
   "outputs": [],
   "source": [
    " def transfrom():\n",
    "            print(\"Transform-->\")\n",
    "            data = extract()\n",
    "            ds = data.stack().reset_index()\n",
    "            titels = list(ds.columns)\n",
    "            titels[2],titels[3],titels[4],titels[5],titels[6],titels[7] = titels[6],titels[4],titels[5],titels[3],titels[2],titels[7]\n",
    "            df = ds[titels]\n",
    "            print(\"Transfrom: \",df)"
   ]
  },
  {
   "cell_type": "code",
   "execution_count": 20,
   "metadata": {},
   "outputs": [
    {
     "output_type": "stream",
     "name": "stdout",
     "text": [
      "Transform-->\n",
      "Extract-->\n",
      "Data Set50:  Attributes Adj Close                                                         \\\n",
      "Symbols    ADVANC.BK AOT.BK AWC.BK BBL.BK    BDMS.BK BEM.BK BGRIM.BK  BH.BK   \n",
      "Date                                                                          \n",
      "2021-04-09     169.5  66.75   4.92  125.5  22.299999   8.20    44.25  142.5   \n",
      "2021-04-12     167.0  65.75   4.80  123.0  22.200001   8.05    43.00  138.5   \n",
      "2021-04-16     168.0  65.50   4.74  122.0  21.900000   8.00    43.25  138.0   \n",
      "2021-04-19     169.5  66.50   4.92  124.5  22.000000   8.15    43.00  138.5   \n",
      "\n",
      "Attributes                    ...     Volume                          \\\n",
      "Symbols    BJC.BK     BPP.BK  ...    TCAP.BK   TISCO.BK       TMB.BK   \n",
      "Date                          ...                                      \n",
      "2021-04-09  37.25  19.200001  ...  4832700.0  5042100.0  208135900.0   \n",
      "2021-04-12  36.75  18.400000  ...  7485200.0  5109500.0  254053900.0   \n",
      "2021-04-16  37.00  18.299999  ...        NaN        NaN          NaN   \n",
      "2021-04-19  37.00  18.600000  ...        NaN        NaN          NaN   \n",
      "\n",
      "Attributes                                                            \\\n",
      "Symbols        TOA.BK      TOP.BK     TRUE.BK     TTW.BK       TU.BK   \n",
      "Date                                                                   \n",
      "2021-04-09  1138600.0  13062200.0  64900400.0  7758900.0  16859200.0   \n",
      "2021-04-12  1593300.0  21044400.0  64949200.0  2836100.0  18811300.0   \n",
      "2021-04-16        NaN         NaN         NaN        NaN         NaN   \n",
      "2021-04-19        NaN         NaN         NaN        NaN         NaN   \n",
      "\n",
      "Attributes                          \n",
      "Symbols         VGI.BK      WHA.BK  \n",
      "Date                                \n",
      "2021-04-09  53218000.0  54644800.0  \n",
      "2021-04-12  36826300.0  93542100.0  \n",
      "2021-04-16         NaN         NaN  \n",
      "2021-04-19         NaN         NaN  \n",
      "\n",
      "[4 rows x 300 columns]\n",
      "Start_date:  2021-04-09\n",
      "End_date:  2021-04-19\n",
      "Transfrom:  Attributes       Date    Symbols    Open    High     Low       Close  \\\n",
      "0          2021-04-09  ADVANC.BK  170.00  171.00  169.50  169.500000   \n",
      "1          2021-04-09     AOT.BK   67.00   67.25   65.75   66.750000   \n",
      "2          2021-04-09     AWC.BK    4.90    4.96    4.86    4.920000   \n",
      "3          2021-04-09     BBL.BK  126.00  126.50  125.50  125.500000   \n",
      "4          2021-04-09    BDMS.BK   21.60   22.40   21.50   22.299999   \n",
      "..                ...        ...     ...     ...     ...         ...   \n",
      "169        2021-04-19     OSP.BK   33.75   35.00   33.75   35.000000   \n",
      "170        2021-04-19     PTT.BK   39.75   40.00   39.50   39.750000   \n",
      "171        2021-04-19   PTTEP.BK  116.00  116.00  114.00  115.500000   \n",
      "172        2021-04-19   PTTGC.BK   63.00   63.50   62.25   63.250000   \n",
      "173        2021-04-19   RATCH.BK   49.75   50.50   49.50   50.000000   \n",
      "\n",
      "Attributes   Adj Close       Volume  \n",
      "0           169.500000    3115500.0  \n",
      "1            66.750000   15876900.0  \n",
      "2             4.920000   64270300.0  \n",
      "3           125.500000    4033400.0  \n",
      "4            22.299999  150324000.0  \n",
      "..                 ...          ...  \n",
      "169          35.000000   15679800.0  \n",
      "170          39.750000   30128300.0  \n",
      "171         115.500000    6332800.0  \n",
      "172          63.250000   19234200.0  \n",
      "173          50.000000    5209400.0  \n",
      "\n",
      "[174 rows x 8 columns]\n"
     ]
    }
   ],
   "source": [
    "transfrom()"
   ]
  },
  {
   "cell_type": "code",
   "execution_count": null,
   "metadata": {},
   "outputs": [],
   "source": [
    "\"\""
   ]
  }
 ]
}